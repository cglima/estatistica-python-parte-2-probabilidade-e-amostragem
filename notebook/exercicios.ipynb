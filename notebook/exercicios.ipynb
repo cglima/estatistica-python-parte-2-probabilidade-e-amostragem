{
 "cells": [
  {
   "cell_type": "markdown",
   "id": "85866aa4-481c-4dd8-a0a4-04470ef683ad",
   "metadata": {},
   "source": [
    "## Exercício - Prova de estatística \n",
    "\n",
    "A aplicação de uma prova de estatística em um concurso apresentou um conjunto de notas normalmente distribuídas. Verificou-se que o conjunto de notas tinha média 70 e desvio padrão de 5 pontos.\n",
    "\n",
    "Qual a probabilidade de um aluno, selecionado ao acaso, ter nota menor que 85?"
   ]
  },
  {
   "cell_type": "code",
   "execution_count": 1,
   "id": "a56bcd12-644a-45f2-ad99-79fb89f6d324",
   "metadata": {},
   "outputs": [
    {
     "data": {
      "text/plain": [
       "0.9986501019683699"
      ]
     },
     "execution_count": 1,
     "metadata": {},
     "output_type": "execute_result"
    }
   ],
   "source": [
    "from scipy.stats import norm \n",
    "\n",
    "media = 70\n",
    "desvio_padrao = 5 \n",
    "Z = (85 - media) / desvio_padrao\n",
    "\n",
    "norm.cdf(Z)"
   ]
  },
  {
   "cell_type": "markdown",
   "id": "13b39e36-bf20-4818-8857-e3893285d4d4",
   "metadata": {},
   "source": [
    "## Exercício - Faturamento diário\n",
    "\n",
    "O faturamento diário de um motorista de aplicativo segue uma distribuição aproximadamente normal, com média R$ 300,00 e desvio padrão igual a R$ 50,00. Obtenha as probabilidades de que, em um dia aleatório, o motorista ganhe:\n",
    "\n",
    "1) Entre R\\\\$ 250,00 e R\\\\$ 350,00\n",
    "\n",
    "2) Entre R\\\\$ 400,00 e R\\\\$ 500,00"
   ]
  },
  {
   "cell_type": "code",
   "execution_count": 10,
   "id": "fb8bd254-9376-4d9f-a5ca-a312cb5e418f",
   "metadata": {},
   "outputs": [],
   "source": [
    "from scipy.stats import norm \n",
    "\n",
    "media = 300 \n",
    "desvio_padrao = 50 "
   ]
  },
  {
   "cell_type": "markdown",
   "id": "9b364402-2e7c-4306-ad56-681984287b2b",
   "metadata": {},
   "source": [
    "## 1. Entre R\\\\$ 250,00 𝑒 𝑅\\\\$ 350,00"
   ]
  },
  {
   "cell_type": "code",
   "execution_count": 20,
   "id": "3ced819e-833a-4cdf-9a64-470150aa199b",
   "metadata": {},
   "outputs": [],
   "source": [
    "z_inferior = (250 - media) / desvio_padrao \n",
    "z_superior = (350 - media) / desvio_padrao"
   ]
  },
  {
   "cell_type": "code",
   "execution_count": 21,
   "id": "a74f859c-f4d4-43a0-9393-cee72dcb266d",
   "metadata": {},
   "outputs": [
    {
     "name": "stdout",
     "output_type": "stream",
     "text": [
      "68.27%\n"
     ]
    }
   ],
   "source": [
    "probabilidade = norm.cdf(z_superior) - norm.cdf(z_inferior)\n",
    "print(\"{0:.2%}\".format(probabilidade))"
   ]
  },
  {
   "cell_type": "markdown",
   "id": "8b5fedb6-9696-4f66-91c7-474788a1548b",
   "metadata": {
    "tags": []
   },
   "source": [
    "## 2. Entre R\\\\$ 400,00 𝑒 𝑅\\\\$ 500,00"
   ]
  },
  {
   "cell_type": "code",
   "execution_count": 14,
   "id": "f6d9883d-91fa-4a0d-91af-bfcfdb38162d",
   "metadata": {},
   "outputs": [],
   "source": [
    "z_inferior = (400 - media) / desvio_padrao\n",
    "z_superior = (500 - media) / desvio_padrao "
   ]
  },
  {
   "cell_type": "code",
   "execution_count": 22,
   "id": "71dc453d-900b-4e82-aa95-bf7c497f2c65",
   "metadata": {},
   "outputs": [
    {
     "name": "stdout",
     "output_type": "stream",
     "text": [
      "68.27%\n"
     ]
    }
   ],
   "source": [
    "probabilidade = norm.cdf(z_superior) - norm.cdf(z_inferior)\n",
    "print(\"{0:.2%}\".format(probabilidade))"
   ]
  },
  {
   "cell_type": "markdown",
   "id": "bb238586-7c85-450c-bddf-bd841ceac435",
   "metadata": {},
   "source": [
    "## Exercícios - Vida útil \n",
    "\n",
    "O Inmetro verificou que as lâmpadas incandescentes da fabricante XPTO apresentam uma vida útil normalmente distribuída, com média igual a 720 dias e desvio padrão igual a 30 dias. Calcule a probabilidade de uma lâmpada, escolhida ao acaso, durar:\n",
    "\n",
    "1) Entre 650 e 750 dias\n",
    "\n",
    "2) Mais que 800 dias\n",
    "\n",
    "3) Menos que 700 dias"
   ]
  },
  {
   "cell_type": "code",
   "execution_count": 24,
   "id": "a40908f6-49d8-4185-a52e-09b85e032dd0",
   "metadata": {},
   "outputs": [],
   "source": [
    "from scipy.stats import norm\n",
    "\n",
    "media = 720\n",
    "desvio_padrao = 30 "
   ]
  },
  {
   "cell_type": "markdown",
   "id": "232c4d52-8b6f-4f79-8ec7-8f4b0cf92834",
   "metadata": {},
   "source": [
    "## 1. Entre 650 e 750 dias"
   ]
  },
  {
   "cell_type": "code",
   "execution_count": 25,
   "id": "46138341-cbe1-428f-a3ff-b2881999a4fe",
   "metadata": {},
   "outputs": [],
   "source": [
    "z_inferior = (650 - media) / desvio_padrao\n",
    "z_superior = (750 - media) / desvio_padrao"
   ]
  },
  {
   "cell_type": "code",
   "execution_count": 31,
   "id": "1c67084a-bb07-41f1-b67a-61321b4a6e66",
   "metadata": {},
   "outputs": [
    {
     "name": "stdout",
     "output_type": "stream",
     "text": [
      "83.15%\n"
     ]
    }
   ],
   "source": [
    "probabilidade = norm.cdf(z_superior) - norm.cdf(z_inferior)\n",
    "print(\"{0:.2%}\".format(probabilidade))"
   ]
  },
  {
   "cell_type": "markdown",
   "id": "c5db1cc7-4a1d-45d2-a12f-256e29ff4539",
   "metadata": {},
   "source": [
    "## 2. Mais de 800 dias"
   ]
  },
  {
   "cell_type": "code",
   "execution_count": 32,
   "id": "d0b2a567-f873-4a7b-bf52-12b63bdbd9b2",
   "metadata": {},
   "outputs": [
    {
     "name": "stdout",
     "output_type": "stream",
     "text": [
      "0.38%\n"
     ]
    }
   ],
   "source": [
    "Z = (800 - media) / desvio_padrao\n",
    "probabilidade = 1 - norm.cdf(Z)\n",
    "print(\"{0:.2%}\".format(probabilidade))"
   ]
  },
  {
   "cell_type": "markdown",
   "id": "20276832-ad8c-4f71-b040-3e1f13351298",
   "metadata": {},
   "source": [
    "## 3. Menos que 700 dias"
   ]
  },
  {
   "cell_type": "code",
   "execution_count": 34,
   "id": "7254547c-7001-4d0b-b77b-a0ff3599eb9b",
   "metadata": {},
   "outputs": [
    {
     "name": "stdout",
     "output_type": "stream",
     "text": [
      "25.25%\n"
     ]
    }
   ],
   "source": [
    "Z = (700 - media) / desvio_padrao\n",
    "probabilidade = norm.cdf(Z)\n",
    "print(\"{0:.2%}\".format(probabilidade))"
   ]
  },
  {
   "cell_type": "markdown",
   "id": "ed889e55-88e2-4ffa-af6f-d6a58e7e3d1c",
   "metadata": {},
   "source": [
    "## Exercicio - Obtendo probabilidades\n",
    "\n",
    "Utilizando a tabela padronizada, ou o ferramental disponibilizado pelo Python, encontre a área sob a curva normal para os valores de Z abaixo:\n",
    "\n",
    "1) Z < 1,96\n",
    "\n",
    "2) Z > 2,15\n",
    "\n",
    "3) Z < -0,78\n",
    "\n",
    "4) Z > 0,59"
   ]
  },
  {
   "cell_type": "code",
   "execution_count": 35,
   "id": "1a7dbee6-730a-4174-933c-c7f2a770c7e8",
   "metadata": {},
   "outputs": [
    {
     "name": "stdout",
     "output_type": "stream",
     "text": [
      "0.9750\n",
      "0.0158\n",
      "0.2177\n",
      "0.2776\n"
     ]
    }
   ],
   "source": [
    "from scipy.stats import norm\n",
    "\n",
    "# Item A\n",
    "probabilidade = norm.cdf(1.96)\n",
    "print(\"{0:0.4f}\".format(probabilidade))\n",
    "\n",
    "# Item B\n",
    "probabilidade = 1 - norm.cdf(2.15)\n",
    "# ou -> probabilidade = norm.sf(2.15)\n",
    "print(\"{0:0.4f}\".format(probabilidade))\n",
    "\n",
    "# Item C\n",
    "probabilidade = norm.cdf(-0.78)\n",
    "print(\"{0:0.4f}\".format(probabilidade))\n",
    "\n",
    "# Item D\n",
    "probabilidade = 1 - norm.cdf(0.59)\n",
    "# ou -> probabilidade = norm.sf(0.59)\n",
    "print(\"{0:0.4f}\".format(probabilidade))"
   ]
  }
 ],
 "metadata": {
  "kernelspec": {
   "display_name": "Python 3 (ipykernel)",
   "language": "python",
   "name": "python3"
  },
  "language_info": {
   "codemirror_mode": {
    "name": "ipython",
    "version": 3
   },
   "file_extension": ".py",
   "mimetype": "text/x-python",
   "name": "python",
   "nbconvert_exporter": "python",
   "pygments_lexer": "ipython3",
   "version": "3.9.7"
  }
 },
 "nbformat": 4,
 "nbformat_minor": 5
}
