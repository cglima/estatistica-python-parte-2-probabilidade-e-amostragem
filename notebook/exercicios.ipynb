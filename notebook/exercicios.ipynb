{
 "cells": [
  {
   "cell_type": "markdown",
   "id": "85866aa4-481c-4dd8-a0a4-04470ef683ad",
   "metadata": {},
   "source": [
    "## Exercício - Prova de estatística \n",
    "\n",
    "A aplicação de uma prova de estatística em um concurso apresentou um conjunto de notas normalmente distribuídas. Verificou-se que o conjunto de notas tinha média 70 e desvio padrão de 5 pontos.\n",
    "\n",
    "Qual a probabilidade de um aluno, selecionado ao acaso, ter nota menor que 85?"
   ]
  },
  {
   "cell_type": "code",
   "execution_count": 1,
   "id": "a56bcd12-644a-45f2-ad99-79fb89f6d324",
   "metadata": {},
   "outputs": [
    {
     "data": {
      "text/plain": [
       "0.9986501019683699"
      ]
     },
     "execution_count": 1,
     "metadata": {},
     "output_type": "execute_result"
    }
   ],
   "source": [
    "from scipy.stats import norm \n",
    "\n",
    "media = 70\n",
    "desvio_padrao = 5 \n",
    "Z = (85 - media) / desvio_padrao\n",
    "\n",
    "norm.cdf(Z)"
   ]
  },
  {
   "cell_type": "markdown",
   "id": "13b39e36-bf20-4818-8857-e3893285d4d4",
   "metadata": {},
   "source": [
    "## Exercício - Faturamento diário\n",
    "\n",
    "O faturamento diário de um motorista de aplicativo segue uma distribuição aproximadamente normal, com média R$ 300,00 e desvio padrão igual a R$ 50,00. Obtenha as probabilidades de que, em um dia aleatório, o motorista ganhe:\n",
    "\n",
    "1) Entre R\\\\$ 250,00 e R\\\\$ 350,00\n",
    "\n",
    "2) Entre R\\\\$ 400,00 e R\\\\$ 500,00"
   ]
  },
  {
   "cell_type": "code",
   "execution_count": 10,
   "id": "fb8bd254-9376-4d9f-a5ca-a312cb5e418f",
   "metadata": {},
   "outputs": [],
   "source": [
    "from scipy.stats import norm \n",
    "\n",
    "media = 300 \n",
    "desvio_padrao = 50 "
   ]
  },
  {
   "cell_type": "markdown",
   "id": "9b364402-2e7c-4306-ad56-681984287b2b",
   "metadata": {},
   "source": [
    "## 1. Entre R\\\\$ 250,00 𝑒 𝑅\\\\$ 350,00"
   ]
  },
  {
   "cell_type": "code",
   "execution_count": 20,
   "id": "3ced819e-833a-4cdf-9a64-470150aa199b",
   "metadata": {},
   "outputs": [],
   "source": [
    "z_inferior = (250 - media) / desvio_padrao \n",
    "z_superior = (350 - media) / desvio_padrao"
   ]
  },
  {
   "cell_type": "code",
   "execution_count": 21,
   "id": "a74f859c-f4d4-43a0-9393-cee72dcb266d",
   "metadata": {},
   "outputs": [
    {
     "name": "stdout",
     "output_type": "stream",
     "text": [
      "68.27%\n"
     ]
    }
   ],
   "source": [
    "probabilidade = norm.cdf(z_superior) - norm.cdf(z_inferior)\n",
    "print(\"{0:.2%}\".format(probabilidade))"
   ]
  },
  {
   "cell_type": "markdown",
   "id": "8b5fedb6-9696-4f66-91c7-474788a1548b",
   "metadata": {
    "tags": []
   },
   "source": [
    "## 2. Entre R\\\\$ 400,00 𝑒 𝑅\\\\$ 500,00"
   ]
  },
  {
   "cell_type": "code",
   "execution_count": 14,
   "id": "f6d9883d-91fa-4a0d-91af-bfcfdb38162d",
   "metadata": {},
   "outputs": [],
   "source": [
    "z_inferior = (400 - media) / desvio_padrao\n",
    "z_superior = (500 - media) / desvio_padrao "
   ]
  },
  {
   "cell_type": "code",
   "execution_count": 15,
   "id": "71dc453d-900b-4e82-aa95-bf7c497f2c65",
   "metadata": {},
   "outputs": [
    {
     "data": {
      "text/plain": [
       "0.02271846070634609"
      ]
     },
     "execution_count": 15,
     "metadata": {},
     "output_type": "execute_result"
    }
   ],
   "source": [
    "probabilidade = norm.cdf(z_superior) - norm.cdf(z_inferior)\n",
    "print(\"{0:.2%}\".format(probabilidade))"
   ]
  }
 ],
 "metadata": {
  "kernelspec": {
   "display_name": "Python 3 (ipykernel)",
   "language": "python",
   "name": "python3"
  },
  "language_info": {
   "codemirror_mode": {
    "name": "ipython",
    "version": 3
   },
   "file_extension": ".py",
   "mimetype": "text/x-python",
   "name": "python",
   "nbconvert_exporter": "python",
   "pygments_lexer": "ipython3",
   "version": "3.9.7"
  }
 },
 "nbformat": 4,
 "nbformat_minor": 5
}
