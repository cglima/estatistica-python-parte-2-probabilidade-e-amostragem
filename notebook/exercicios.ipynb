{
 "cells": [
  {
   "cell_type": "markdown",
   "id": "85866aa4-481c-4dd8-a0a4-04470ef683ad",
   "metadata": {},
   "source": [
    "## Exercício - Prova de estatística \n",
    "\n",
    "A aplicação de uma prova de estatística em um concurso apresentou um conjunto de notas normalmente distribuídas. Verificou-se que o conjunto de notas tinha média 70 e desvio padrão de 5 pontos.\n",
    "\n",
    "Qual a probabilidade de um aluno, selecionado ao acaso, ter nota menor que 85?"
   ]
  },
  {
   "cell_type": "code",
   "execution_count": 1,
   "id": "a56bcd12-644a-45f2-ad99-79fb89f6d324",
   "metadata": {},
   "outputs": [
    {
     "data": {
      "text/plain": [
       "0.9986501019683699"
      ]
     },
     "execution_count": 1,
     "metadata": {},
     "output_type": "execute_result"
    }
   ],
   "source": [
    "from scipy.stats import norm \n",
    "\n",
    "media = 70\n",
    "desvio_padrao = 5 \n",
    "Z = (85 - media) / desvio_padrao\n",
    "\n",
    "norm.cdf(Z)"
   ]
  },
  {
   "cell_type": "markdown",
   "id": "13b39e36-bf20-4818-8857-e3893285d4d4",
   "metadata": {},
   "source": [
    "## Exercício - Faturamento diário\n",
    "\n",
    "O faturamento diário de um motorista de aplicativo segue uma distribuição aproximadamente normal, com média R$ 300,00 e desvio padrão igual a R$ 50,00. Obtenha as probabilidades de que, em um dia aleatório, o motorista ganhe:\n",
    "\n",
    "1) Entre R\\\\$ 250,00 e R\\\\$ 350,00\n",
    "\n",
    "2) Entre R\\\\$ 400,00 e R\\\\$ 500,00"
   ]
  },
  {
   "cell_type": "code",
   "execution_count": 10,
   "id": "fb8bd254-9376-4d9f-a5ca-a312cb5e418f",
   "metadata": {},
   "outputs": [],
   "source": [
    "from scipy.stats import norm \n",
    "\n",
    "media = 300 \n",
    "desvio_padrao = 50 "
   ]
  },
  {
   "cell_type": "markdown",
   "id": "9b364402-2e7c-4306-ad56-681984287b2b",
   "metadata": {},
   "source": [
    "## 1. Entre R\\\\$ 250,00 𝑒 𝑅\\\\$ 350,00"
   ]
  },
  {
   "cell_type": "code",
   "execution_count": 20,
   "id": "3ced819e-833a-4cdf-9a64-470150aa199b",
   "metadata": {},
   "outputs": [],
   "source": [
    "z_inferior = (250 - media) / desvio_padrao \n",
    "z_superior = (350 - media) / desvio_padrao"
   ]
  },
  {
   "cell_type": "code",
   "execution_count": 21,
   "id": "a74f859c-f4d4-43a0-9393-cee72dcb266d",
   "metadata": {},
   "outputs": [
    {
     "name": "stdout",
     "output_type": "stream",
     "text": [
      "68.27%\n"
     ]
    }
   ],
   "source": [
    "probabilidade = norm.cdf(z_superior) - norm.cdf(z_inferior)\n",
    "print(\"{0:.2%}\".format(probabilidade))"
   ]
  },
  {
   "cell_type": "markdown",
   "id": "8b5fedb6-9696-4f66-91c7-474788a1548b",
   "metadata": {
    "tags": []
   },
   "source": [
    "## 2. Entre R\\\\$ 400,00 𝑒 𝑅\\\\$ 500,00"
   ]
  },
  {
   "cell_type": "code",
   "execution_count": 14,
   "id": "f6d9883d-91fa-4a0d-91af-bfcfdb38162d",
   "metadata": {},
   "outputs": [],
   "source": [
    "z_inferior = (400 - media) / desvio_padrao\n",
    "z_superior = (500 - media) / desvio_padrao "
   ]
  },
  {
   "cell_type": "code",
   "execution_count": 22,
   "id": "71dc453d-900b-4e82-aa95-bf7c497f2c65",
   "metadata": {},
   "outputs": [
    {
     "name": "stdout",
     "output_type": "stream",
     "text": [
      "68.27%\n"
     ]
    }
   ],
   "source": [
    "probabilidade = norm.cdf(z_superior) - norm.cdf(z_inferior)\n",
    "print(\"{0:.2%}\".format(probabilidade))"
   ]
  },
  {
   "cell_type": "markdown",
   "id": "bb238586-7c85-450c-bddf-bd841ceac435",
   "metadata": {},
   "source": [
    "## Exercícios - Vida útil \n",
    "\n",
    "O Inmetro verificou que as lâmpadas incandescentes da fabricante XPTO apresentam uma vida útil normalmente distribuída, com média igual a 720 dias e desvio padrão igual a 30 dias. Calcule a probabilidade de uma lâmpada, escolhida ao acaso, durar:\n",
    "\n",
    "1) Entre 650 e 750 dias\n",
    "\n",
    "2) Mais que 800 dias\n",
    "\n",
    "3) Menos que 700 dias"
   ]
  },
  {
   "cell_type": "code",
   "execution_count": 24,
   "id": "a40908f6-49d8-4185-a52e-09b85e032dd0",
   "metadata": {},
   "outputs": [],
   "source": [
    "from scipy.stats import norm\n",
    "\n",
    "media = 720\n",
    "desvio_padrao = 30 "
   ]
  },
  {
   "cell_type": "markdown",
   "id": "232c4d52-8b6f-4f79-8ec7-8f4b0cf92834",
   "metadata": {},
   "source": [
    "## 1. Entre 650 e 750 dias"
   ]
  },
  {
   "cell_type": "code",
   "execution_count": 25,
   "id": "46138341-cbe1-428f-a3ff-b2881999a4fe",
   "metadata": {},
   "outputs": [],
   "source": [
    "z_inferior = (650 - media) / desvio_padrao\n",
    "z_superior = (750 - media) / desvio_padrao"
   ]
  },
  {
   "cell_type": "code",
   "execution_count": 31,
   "id": "1c67084a-bb07-41f1-b67a-61321b4a6e66",
   "metadata": {},
   "outputs": [
    {
     "name": "stdout",
     "output_type": "stream",
     "text": [
      "83.15%\n"
     ]
    }
   ],
   "source": [
    "probabilidade = norm.cdf(z_superior) - norm.cdf(z_inferior)\n",
    "print(\"{0:.2%}\".format(probabilidade))"
   ]
  },
  {
   "cell_type": "markdown",
   "id": "c5db1cc7-4a1d-45d2-a12f-256e29ff4539",
   "metadata": {},
   "source": [
    "## 2. Mais de 800 dias"
   ]
  },
  {
   "cell_type": "code",
   "execution_count": 32,
   "id": "d0b2a567-f873-4a7b-bf52-12b63bdbd9b2",
   "metadata": {},
   "outputs": [
    {
     "name": "stdout",
     "output_type": "stream",
     "text": [
      "0.38%\n"
     ]
    }
   ],
   "source": [
    "Z = (800 - media) / desvio_padrao\n",
    "probabilidade = 1 - norm.cdf(Z)\n",
    "print(\"{0:.2%}\".format(probabilidade))"
   ]
  },
  {
   "cell_type": "markdown",
   "id": "20276832-ad8c-4f71-b040-3e1f13351298",
   "metadata": {},
   "source": [
    "## 3. Menos que 700 dias"
   ]
  },
  {
   "cell_type": "code",
   "execution_count": 34,
   "id": "7254547c-7001-4d0b-b77b-a0ff3599eb9b",
   "metadata": {},
   "outputs": [
    {
     "name": "stdout",
     "output_type": "stream",
     "text": [
      "25.25%\n"
     ]
    }
   ],
   "source": [
    "Z = (700 - media) / desvio_padrao\n",
    "probabilidade = norm.cdf(Z)\n",
    "print(\"{0:.2%}\".format(probabilidade))"
   ]
  },
  {
   "cell_type": "markdown",
   "id": "ed889e55-88e2-4ffa-af6f-d6a58e7e3d1c",
   "metadata": {},
   "source": [
    "## Exercicio - Obtendo probabilidades\n",
    "\n",
    "Utilizando a tabela padronizada, ou o ferramental disponibilizado pelo Python, encontre a área sob a curva normal para os valores de Z abaixo:\n",
    "\n",
    "1) Z < 1,96\n",
    "\n",
    "2) Z > 2,15\n",
    "\n",
    "3) Z < -0,78\n",
    "\n",
    "4) Z > 0,59"
   ]
  },
  {
   "cell_type": "code",
   "execution_count": 35,
   "id": "1a7dbee6-730a-4174-933c-c7f2a770c7e8",
   "metadata": {},
   "outputs": [
    {
     "name": "stdout",
     "output_type": "stream",
     "text": [
      "0.9750\n",
      "0.0158\n",
      "0.2177\n",
      "0.2776\n"
     ]
    }
   ],
   "source": [
    "from scipy.stats import norm\n",
    "\n",
    "# Item A\n",
    "probabilidade = norm.cdf(1.96)\n",
    "print(\"{0:0.4f}\".format(probabilidade))\n",
    "\n",
    "# Item B\n",
    "probabilidade = 1 - norm.cdf(2.15)\n",
    "# ou -> probabilidade = norm.sf(2.15)\n",
    "print(\"{0:0.4f}\".format(probabilidade))\n",
    "\n",
    "# Item C\n",
    "probabilidade = norm.cdf(-0.78)\n",
    "print(\"{0:0.4f}\".format(probabilidade))\n",
    "\n",
    "# Item D\n",
    "probabilidade = 1 - norm.cdf(0.59)\n",
    "# ou -> probabilidade = norm.sf(0.59)\n",
    "print(\"{0:0.4f}\".format(probabilidade))"
   ]
  },
  {
   "cell_type": "markdown",
   "id": "840002cf-984e-4d7a-bab8-cdaf5f5de47a",
   "metadata": {},
   "source": [
    "## Exercício - Margem de erro\n",
    "\n",
    "Para estimar o valor médio gasto por cada cliente de uma grande rede de fast-food, foi selecionada uma amostra de 50 clientes.\n",
    "\n",
    "Assumindo que o valor do desvio padrão da população seja de R$ 6,00 e que esta população se distribui normalmente, obtenha a margem de erro desta estimativa para um nível de confiança de 95%."
   ]
  },
  {
   "cell_type": "code",
   "execution_count": 38,
   "id": "38466a56-6390-425a-8a59-bd7951ad31cf",
   "metadata": {},
   "outputs": [
    {
     "data": {
      "text/plain": [
       "1.6631151493507597"
      ]
     },
     "execution_count": 38,
     "metadata": {},
     "output_type": "execute_result"
    }
   ],
   "source": [
    "import numpy as np\n",
    "\n",
    "amostra = 50 \n",
    "desvio_padrao = 6 \n",
    "alpha = 0.95\n",
    "z = 1.96\n",
    "\n",
    "sigma = desvio_padrao / np.sqrt(amostra)\n",
    "\n",
    "e = z * sigma\n",
    "e"
   ]
  },
  {
   "cell_type": "markdown",
   "id": "536960b6-57ef-4826-9271-269f25246364",
   "metadata": {},
   "source": [
    "## Exercício - Intervalo de Confiança\n",
    "\n",
    "Uma amostra aleatória simples de 1976 itens de uma população normalmente distribuída, com desvio padrão igual a 11, resultou em uma média amostral de 28.\n",
    "\n",
    "Qual o intervalo de confiança de 90% para a média populacional?"
   ]
  },
  {
   "cell_type": "code",
   "execution_count": 46,
   "id": "ac0e3042-f42c-47da-bfad-0ba5708b216b",
   "metadata": {},
   "outputs": [
    {
     "data": {
      "text/plain": [
       "(27.592969951356466, 28.407030048643534)"
      ]
     },
     "execution_count": 46,
     "metadata": {},
     "output_type": "execute_result"
    }
   ],
   "source": [
    "from scipy.stats import norm\n",
    "import numpy as np\n",
    "\n",
    "amostra = 1976 \n",
    "desvio_padrao = 11 \n",
    "media_amostra = 28 \n",
    "\n",
    "sigma = desvio_padrao / np.sqrt(amostra)\n",
    "\n",
    "norm.interval(alpha = 0.90, loc = media_amostra, scale = sigma)"
   ]
  },
  {
   "cell_type": "markdown",
   "id": "f640f36f-4d22-49ef-9c10-b49470575e82",
   "metadata": {},
   "source": [
    "## Exercício - Obtendo o tamanho da amostra\n",
    "\n",
    "O valor do gasto médio dos clientes de uma loja de conveniência é de R\\\\$ 45,50. Assumindo que o desvio padrão dos gastos é igual a R\\\\$ 15,00, qual deve ser o tamanho da amostra para estimarmos a média populacional com um nível de significância de 10%?\n",
    "\n",
    "Considere que o erro máximo aceitável seja de 10%."
   ]
  },
  {
   "cell_type": "code",
   "execution_count": 48,
   "id": "9a840901-1be4-4fca-98d4-1f38294fac15",
   "metadata": {
    "jupyter": {
     "source_hidden": true
    },
    "tags": []
   },
   "outputs": [
    {
     "data": {
      "text/plain": [
       "29.0"
      ]
     },
     "execution_count": 48,
     "metadata": {},
     "output_type": "execute_result"
    }
   ],
   "source": [
    "from scipy.stats import norm\n",
    "\n",
    "media = 45.5\n",
    "sigma = 15\n",
    "significancia = 0.10\n",
    "confianca = 1 - significancia\n",
    "\n",
    "z = norm.ppf(0.5 + (confianca / 2))\n",
    "erro_percentual = 0.10\n",
    "e = media * erro_percentual\n",
    "\n",
    "n = (z * (sigma / e)) ** 2\n",
    "n.round()"
   ]
  },
  {
   "cell_type": "markdown",
   "id": "8f5cb16c-66a6-4587-a94c-c504e0e89c6d",
   "metadata": {},
   "source": [
    "## Exercício - Amostra de sacos de farinha\n",
    "\n",
    "Um fabricante de farinha verificou que, em uma amostra aleatória formada por 200 sacos de 25 kg de um lote formado por 2.000 sacos, apresentou um desvio padrão amostral do peso igual a 480 g.\n",
    "\n",
    "Considerando um erro máximo associado à média populacional igual a 0,3 kg e um nível de confiança igual a 95%, qual tamanho de amostra deveria ser selecionado para obtermos uma estimativa confiável do parâmetro populacional?"
   ]
  },
  {
   "cell_type": "code",
   "execution_count": 51,
   "id": "1ab70464-8a3f-4777-a518-e28b5c06a250",
   "metadata": {},
   "outputs": [
    {
     "data": {
      "text/plain": [
       "10"
      ]
     },
     "execution_count": 51,
     "metadata": {},
     "output_type": "execute_result"
    }
   ],
   "source": [
    "from scipy.stats import norm \n",
    "\n",
    "N = 2000\n",
    "s = 0.480 \n",
    "e = 0.3\n",
    "confiança = 0.95 \n",
    "\n",
    "z = norm.ppf((0.5 + (0.95 / 2)))\n",
    "\n",
    "n = ((z ** 2) * (s ** 2) * (N)) / (((z ** 2) * (s ** 2)) + ((e ** 2) * (N - 1)))\n",
    "int(n.round())"
   ]
  }
 ],
 "metadata": {
  "kernelspec": {
   "display_name": "Python 3 (ipykernel)",
   "language": "python",
   "name": "python3"
  },
  "language_info": {
   "codemirror_mode": {
    "name": "ipython",
    "version": 3
   },
   "file_extension": ".py",
   "mimetype": "text/x-python",
   "name": "python",
   "nbconvert_exporter": "python",
   "pygments_lexer": "ipython3",
   "version": "3.9.7"
  }
 },
 "nbformat": 4,
 "nbformat_minor": 5
}
